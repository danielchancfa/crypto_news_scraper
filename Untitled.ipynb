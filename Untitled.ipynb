{
 "cells": [
  {
   "cell_type": "code",
   "execution_count": 1,
   "id": "e2dd290b",
   "metadata": {},
   "outputs": [],
   "source": [
    "from selenium import webdriver\n",
    "from selenium.webdriver.common.by import By\n",
    "from selenium.webdriver.chrome.service import Service\n",
    "from webdriver_manager.chrome import ChromeDriverManager\n",
    "import time\n",
    "\n",
    "# Initialize the Chrome driver\n",
    "driver = webdriver.Chrome(service=Service(ChromeDriverManager().install()))\n",
    "\n",
    "# The cointelegraph target URL\n",
    "cointelegraph_url = 'https://cointelegraph.com/category/latest-news'\n",
    "\n",
    "# Navigate to the URL\n",
    "driver.get(cointelegraph_url)"
   ]
  },
  {
   "cell_type": "code",
   "execution_count": 2,
   "id": "27d88bdb",
   "metadata": {},
   "outputs": [
    {
     "name": "stdout",
     "output_type": "stream",
     "text": [
      "[<selenium.webdriver.remote.webelement.WebElement (session=\"8e1942da57c41f77d3b16af0f607363b\", element=\"f.CC3371CCB2B56E9606081B6E81DBE737.d.8D4BE31445219E807D15ACA7C136059A.e.47\")>, <selenium.webdriver.remote.webelement.WebElement (session=\"8e1942da57c41f77d3b16af0f607363b\", element=\"f.CC3371CCB2B56E9606081B6E81DBE737.d.8D4BE31445219E807D15ACA7C136059A.e.48\")>, <selenium.webdriver.remote.webelement.WebElement (session=\"8e1942da57c41f77d3b16af0f607363b\", element=\"f.CC3371CCB2B56E9606081B6E81DBE737.d.8D4BE31445219E807D15ACA7C136059A.e.49\")>, <selenium.webdriver.remote.webelement.WebElement (session=\"8e1942da57c41f77d3b16af0f607363b\", element=\"f.CC3371CCB2B56E9606081B6E81DBE737.d.8D4BE31445219E807D15ACA7C136059A.e.50\")>, <selenium.webdriver.remote.webelement.WebElement (session=\"8e1942da57c41f77d3b16af0f607363b\", element=\"f.CC3371CCB2B56E9606081B6E81DBE737.d.8D4BE31445219E807D15ACA7C136059A.e.51\")>, <selenium.webdriver.remote.webelement.WebElement (session=\"8e1942da57c41f77d3b16af0f607363b\", element=\"f.CC3371CCB2B56E9606081B6E81DBE737.d.8D4BE31445219E807D15ACA7C136059A.e.52\")>, <selenium.webdriver.remote.webelement.WebElement (session=\"8e1942da57c41f77d3b16af0f607363b\", element=\"f.CC3371CCB2B56E9606081B6E81DBE737.d.8D4BE31445219E807D15ACA7C136059A.e.53\")>, <selenium.webdriver.remote.webelement.WebElement (session=\"8e1942da57c41f77d3b16af0f607363b\", element=\"f.CC3371CCB2B56E9606081B6E81DBE737.d.8D4BE31445219E807D15ACA7C136059A.e.54\")>, <selenium.webdriver.remote.webelement.WebElement (session=\"8e1942da57c41f77d3b16af0f607363b\", element=\"f.CC3371CCB2B56E9606081B6E81DBE737.d.8D4BE31445219E807D15ACA7C136059A.e.55\")>, <selenium.webdriver.remote.webelement.WebElement (session=\"8e1942da57c41f77d3b16af0f607363b\", element=\"f.CC3371CCB2B56E9606081B6E81DBE737.d.8D4BE31445219E807D15ACA7C136059A.e.56\")>, <selenium.webdriver.remote.webelement.WebElement (session=\"8e1942da57c41f77d3b16af0f607363b\", element=\"f.CC3371CCB2B56E9606081B6E81DBE737.d.8D4BE31445219E807D15ACA7C136059A.e.57\")>, <selenium.webdriver.remote.webelement.WebElement (session=\"8e1942da57c41f77d3b16af0f607363b\", element=\"f.CC3371CCB2B56E9606081B6E81DBE737.d.8D4BE31445219E807D15ACA7C136059A.e.58\")>, <selenium.webdriver.remote.webelement.WebElement (session=\"8e1942da57c41f77d3b16af0f607363b\", element=\"f.CC3371CCB2B56E9606081B6E81DBE737.d.8D4BE31445219E807D15ACA7C136059A.e.59\")>, <selenium.webdriver.remote.webelement.WebElement (session=\"8e1942da57c41f77d3b16af0f607363b\", element=\"f.CC3371CCB2B56E9606081B6E81DBE737.d.8D4BE31445219E807D15ACA7C136059A.e.60\")>, <selenium.webdriver.remote.webelement.WebElement (session=\"8e1942da57c41f77d3b16af0f607363b\", element=\"f.CC3371CCB2B56E9606081B6E81DBE737.d.8D4BE31445219E807D15ACA7C136059A.e.61\")>]\n"
     ]
    }
   ],
   "source": [
    "# # get the page html\n",
    "# cointelegram_html = driver.page_source\n",
    "\n",
    "# Find all article elements\n",
    "articles = driver.find_elements(By.XPATH, '//li[@data-testid=\"posts-listing__item\"]')\n",
    "print(articles)"
   ]
  },
  {
   "cell_type": "code",
   "execution_count": 26,
   "id": "27b4abdf",
   "metadata": {},
   "outputs": [
    {
     "name": "stdout",
     "output_type": "stream",
     "text": [
      "Lido staked SOL holders fret as $24M remains stuck on ‘broken’ contract\n",
      "https://cointelegraph.com/news/24-million-staked-sol-stuck-lido-smart-contract-bug\n",
      "35 MINUTES AGO\n",
      "Felix Ng\n",
      "\n",
      "\n",
      "Restaking could introduce ‘hidden risks’ to Ethereum — Coinbase\n",
      "https://cointelegraph.com/news/ethereum-restaking-has-hidden-risks-coinbase-report\n",
      "43 MINUTES AGO\n",
      "Tom Mitchelhill\n",
      "\n",
      "\n",
      "Crypto VC Paradigm seeking up to $850M raise for fund: Report\n",
      "https://cointelegraph.com/news/paradigm-seeks-850-millon-for-crypto-fund\n",
      "2 HOURS AGO\n",
      "Brayden Lindrea\n",
      "\n",
      "\n",
      "Here’s what happened in crypto today\n",
      "https://cointelegraph.com/news/what-happened-in-crypto-today\n",
      "6 HOURS AGO\n",
      "Cointelegraph\n",
      "\n",
      "\n",
      "Meet the Solana memecoin that suffered two rug pulls but still survived\n",
      "https://cointelegraph.com/news/meet-the-solana-meme-coin-that-suffered-two-rug-pulls-but-still-survived\n",
      "6 HOURS AGO\n",
      "Christopher Roark\n",
      "\n",
      "\n",
      "Argentine government passes registration requirements for crypto firms\n",
      "https://cointelegraph.com/news/argentina-registration-law-crypto\n",
      "6 HOURS AGO\n",
      "Turner Wright\n",
      "\n",
      "\n",
      "OpenSea enables support for ERC-721C programmable earnings standard\n",
      "https://cointelegraph.com/news/open-sea-enables-support-erc-721c-programmable-earnings-standard\n",
      "7 HOURS AGO\n",
      "Zhiyuan Sun\n",
      "\n",
      "\n",
      "$2B in Silk Road Bitcoin seized by DOJ moves to new wallet\n",
      "https://cointelegraph.com/news/silk-road-bitcoin-justice-department-wallet\n",
      "9 HOURS AGO\n",
      "Turner Wright\n",
      "\n",
      "\n",
      "Taiwanese music celebrity’s Solana memecoin sees wild price action after $40M presale\n",
      "https://cointelegraph.com/news/taiwanese-music-celebrity-solana-memecoin-wild-price-action-40-million-presale\n",
      "10 HOURS AGO\n",
      "Zhiyuan Sun\n",
      "\n",
      "\n",
      "Bitcoin clings to $65K — More losses ahead for BTC price?\n",
      "https://cointelegraph.com/news/bitcoin-65k-more-losses-btc-price\n",
      "10 HOURS AGO\n",
      "Zoltan Vardai\n",
      "\n",
      "\n",
      "History of Crypto: The ICO Boom and Ethereum's Evolution\n",
      "https://cointelegraph.com/news/ethereum-ico-boom-history-crypto\n",
      "10 HOURS AGO\n",
      "Cointelegraph\n",
      "\n",
      "\n",
      "‘No bridges or wrapping’ — dWallet and Avail are building native Bitcoin rollups\n",
      "https://cointelegraph.com/news/dwallet-avail-build-native-bitcoin-rollups\n",
      "13 HOURS AGO\n",
      "Gareth Jenkinson\n",
      "\n",
      "\n",
      "Crypto derivatives firm Deribit moves to Dubai after winning VARA approval\n",
      "https://cointelegraph.com/news/deribit-vara-regulatory-approval-dubai\n",
      "14 HOURS AGO\n",
      "Helen Partz\n",
      "\n",
      "\n",
      "Largest Ethena airdrop recipient gets nearly $2M\n",
      "https://cointelegraph.com/news/nearly-2m-ena-largest-ethena-airdrop-recipient\n",
      "14 HOURS AGO\n",
      "Zoltan Vardai\n",
      "\n",
      "\n",
      "Digital asset inflows recover, but ETF activity is slowing down\n",
      "https://cointelegraph.com/news/digital-asset-inflows-recover-etf-activity-slowing-down\n",
      "15 HOURS AGO\n",
      "Prashant Jha\n",
      "\n",
      "\n"
     ]
    }
   ],
   "source": [
    "\n",
    "# Extract and print titles and URLs of articles\n",
    "for article in articles:\n",
    "    \n",
    "    title = article.find_element(By.XPATH, 'article//a/span').text\n",
    "    \n",
    "    link = article.find_element(By.XPATH, 'article/a').get_attribute('href')\n",
    "    \n",
    "    time_change = article.find_element(By.XPATH, 'article//div/time').text\n",
    "    \n",
    "    author = article.find_element(By.XPATH, 'article//div[@class=\"post-card-inline__meta\"]/p/a/span').text\n",
    "    \n",
    "    print(title)\n",
    "    print(link)\n",
    "    print(time_change)\n",
    "    print(author)\n",
    "    print('\\n')\n",
    "\n",
    "# Close the browser\n",
    "# driver.quit()\n"
   ]
  },
  {
   "cell_type": "code",
   "execution_count": 25,
   "id": "af40340a",
   "metadata": {},
   "outputs": [
    {
     "data": {
      "text/plain": [
       "'Prashant Jha'"
      ]
     },
     "execution_count": 25,
     "metadata": {},
     "output_type": "execute_result"
    }
   ],
   "source": [
    "article.find_element(By.XPATH, 'article//div[@class=\"post-card-inline__meta\"]/p/a/span').text"
   ]
  },
  {
   "cell_type": "code",
   "execution_count": null,
   "id": "24c88cdf",
   "metadata": {},
   "outputs": [],
   "source": []
  }
 ],
 "metadata": {
  "kernelspec": {
   "display_name": "Python 3 (ipykernel)",
   "language": "python",
   "name": "python3"
  },
  "language_info": {
   "codemirror_mode": {
    "name": "ipython",
    "version": 3
   },
   "file_extension": ".py",
   "mimetype": "text/x-python",
   "name": "python",
   "nbconvert_exporter": "python",
   "pygments_lexer": "ipython3",
   "version": "3.7.16"
  }
 },
 "nbformat": 4,
 "nbformat_minor": 5
}
